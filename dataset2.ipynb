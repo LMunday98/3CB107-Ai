{
 "cells": [
  {
   "cell_type": "code",
   "execution_count": 195,
   "id": "tracked-fifteen",
   "metadata": {},
   "outputs": [],
   "source": [
    "import os, sys, shutil, random"
   ]
  },
  {
   "cell_type": "code",
   "execution_count": 196,
   "id": "dedicated-chest",
   "metadata": {},
   "outputs": [],
   "source": [
    "original_dataset = \"Hands/\"\n",
    "filename = \"HandInfo.txt\"\n",
    "dataset_folder_name = \"dataset_final/\"\n",
    "hand_types = ['palm', 'dorsal', 'both']\n",
    "mode = 0o777"
   ]
  },
  {
   "cell_type": "code",
   "execution_count": 197,
   "id": "abstract-gates",
   "metadata": {},
   "outputs": [],
   "source": [
    "def create_dir(folder_path, hand_type='', gender=''):\n",
    "    try: \n",
    "        os.makedirs(os.path.join(folder_path, hand_type, gender), mode)\n",
    "    except OSError as error:\n",
    "        print(error)"
   ]
  },
  {
   "cell_type": "code",
   "execution_count": 198,
   "id": "radio-georgia",
   "metadata": {},
   "outputs": [],
   "source": [
    "def sort_image(original_dataset, dataset_folder_name, info_dict, phase_type):\n",
    "    if (\"palmar\" in info_dict['hand_aspect']):\n",
    "        shutil.copy2(original_dataset + info_dict['image_name'], os.path.join(dataset_folder_name, \"palm\" , phase_type, info_dict['gender']))\n",
    "    elif (\"dorsal\" in info_dict['hand_aspect']):\n",
    "        shutil.copy2(original_dataset + info_dict['image_name'], os.path.join(dataset_folder_name, \"dorsal\", phase_type, info_dict['gender']))\n",
    "    shutil.copy2(original_dataset + info_dict['image_name'], os.path.join(dataset_folder_name, \"both\", phase_type, info_dict['gender']))"
   ]
  },
  {
   "cell_type": "code",
   "execution_count": 199,
   "id": "altered-sugar",
   "metadata": {},
   "outputs": [],
   "source": [
    "def get_gender_lists(gender_list):\n",
    "    k = len(gender_list) * percentage / 100\n",
    "    k = int(k)\n",
    "    indicies = random.sample(range(len(gender_list)), k)\n",
    "    train_list = [gender_list[i] for i in indicies]\n",
    "    valid_list = list(set(gender_list)-set(train_list))\n",
    "    \n",
    "    return train_list, valid_list"
   ]
  },
  {
   "cell_type": "code",
   "execution_count": 200,
   "id": "greenhouse-burlington",
   "metadata": {},
   "outputs": [],
   "source": [
    "# id, age, gender, skinColor, accessories, nailPolish, aspectOfHand, imageName, irregularities\n",
    "def get_metadata(line):\n",
    "    line_info = line.split(\",\")\n",
    "    info_dict = {\n",
    "        'subject' : line_info[0],\n",
    "        'gender' : line_info[2],\n",
    "        'hand_aspect' : line_info[6],\n",
    "        'image_name' : line_info[7]\n",
    "    }\n",
    "    return info_dict"
   ]
  },
  {
   "cell_type": "code",
   "execution_count": 201,
   "id": "russian-doubt",
   "metadata": {},
   "outputs": [
    {
     "name": "stdout",
     "output_type": "stream",
     "text": [
      "[Errno 17] File exists: 'dataset_final/'\n",
      "[Errno 17] File exists: 'dataset_final/palm/'\n",
      "[Errno 17] File exists: 'dataset_final/'\n",
      "[Errno 17] File exists: 'dataset_final/dorsal/'\n",
      "[Errno 17] File exists: 'dataset_final/'\n",
      "[Errno 17] File exists: 'dataset_final/both/'\n"
     ]
    }
   ],
   "source": [
    "for hand_type in hand_types:\n",
    "    dataset_folder_path = os.path.join(dataset_folder_name, hand_type)\n",
    "    create_dir(dataset_folder_name)\n",
    "    create_dir(dataset_folder_path)"
   ]
  },
  {
   "cell_type": "code",
   "execution_count": 202,
   "id": "magnetic-occasion",
   "metadata": {},
   "outputs": [],
   "source": [
    "male_list = []\n",
    "female_list = []\n",
    "\n",
    "f = open(filename, \"r\")\n",
    "\n",
    "for line in f:\n",
    "    info_dict = get_metadata(line)\n",
    "    if (info_dict['gender'] == \"male\"):\n",
    "        if (subject not in male_list):\n",
    "            male_list.append(info_dict['subject'])\n",
    "    else:\n",
    "        if (subject not in female_list):\n",
    "            female_list.append(info_dict['subject'])\n",
    "\n",
    "percentage = float(80)\n",
    "training_male, valid_male = get_gender_lists(male_list)\n",
    "training_female, valid_female = get_gender_lists(female_list)"
   ]
  },
  {
   "cell_type": "code",
   "execution_count": 203,
   "id": "attractive-career",
   "metadata": {},
   "outputs": [
    {
     "name": "stdout",
     "output_type": "stream",
     "text": [
      "[Errno 17] File exists: 'dataset_final/palm/train/male'\n",
      "[Errno 17] File exists: 'dataset_final/palm/valid/male'\n",
      "[Errno 17] File exists: 'dataset_final/palm/train/female'\n",
      "[Errno 17] File exists: 'dataset_final/palm/valid/female'\n",
      "[Errno 17] File exists: 'dataset_final/dorsal/train/male'\n",
      "[Errno 17] File exists: 'dataset_final/dorsal/valid/male'\n",
      "[Errno 17] File exists: 'dataset_final/dorsal/train/female'\n",
      "[Errno 17] File exists: 'dataset_final/dorsal/valid/female'\n",
      "[Errno 17] File exists: 'dataset_final/both/train/male'\n",
      "[Errno 17] File exists: 'dataset_final/both/valid/male'\n",
      "[Errno 17] File exists: 'dataset_final/both/train/female'\n",
      "[Errno 17] File exists: 'dataset_final/both/valid/female'\n"
     ]
    }
   ],
   "source": [
    "for hand_type in hand_types:\n",
    "    dataset_folder_path = os.path.join(dataset_folder_name, hand_type)\n",
    "    \n",
    "    for gender in ['male', 'female']:\n",
    "        create_dir(dataset_folder_path, \"train\", gender)\n",
    "        create_dir(dataset_folder_path, \"valid\", gender)"
   ]
  },
  {
   "cell_type": "code",
   "execution_count": 204,
   "id": "hidden-electric",
   "metadata": {},
   "outputs": [],
   "source": [
    "f = open(filename, \"r\")\n",
    "\n",
    "for line in f:\n",
    "    info_dict = get_metadata(line)\n",
    "\n",
    "    if (subject in training_female or subject in training_male):\n",
    "        sort_image(original_dataset, dataset_folder_name, info_dict, \"train\")\n",
    "    elif (subject in valid_female or subject in valid_male):\n",
    "        sort_image(original_dataset, dataset_folder_name, info_dict, \"valid\")"
   ]
  }
 ],
 "metadata": {
  "kernelspec": {
   "display_name": "Python 3",
   "language": "python",
   "name": "python3"
  },
  "language_info": {
   "codemirror_mode": {
    "name": "ipython",
    "version": 3
   },
   "file_extension": ".py",
   "mimetype": "text/x-python",
   "name": "python",
   "nbconvert_exporter": "python",
   "pygments_lexer": "ipython3",
   "version": "3.8.5"
  }
 },
 "nbformat": 4,
 "nbformat_minor": 5
}
