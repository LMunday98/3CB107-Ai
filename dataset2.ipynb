{
 "cells": [
  {
   "cell_type": "code",
   "execution_count": 63,
   "id": "broadband-pitch",
   "metadata": {},
   "outputs": [],
   "source": [
    "import os, sys\n",
    "import shutil\n",
    "import random"
   ]
  },
  {
   "cell_type": "code",
   "execution_count": 64,
   "id": "tribal-motion",
   "metadata": {},
   "outputs": [],
   "source": [
    "original_dataset = \"Hands/\"\n",
    "filename = \"HandInfo.txt\"\n",
    "dataset_folder_name = \"dataset_final/\"\n",
    "hand_types = ['palm', 'dorsal', 'both']\n",
    "mode = 0o777"
   ]
  },
  {
   "cell_type": "code",
   "execution_count": 65,
   "id": "twenty-guyana",
   "metadata": {},
   "outputs": [],
   "source": [
    "def create_dir(folder_path, type, mode, gender):\n",
    "    try: \n",
    "        os.makedirs(os.path.join(folder_path, type, gender), mode)\n",
    "    except OSError as error:\n",
    "        print(error)"
   ]
  },
  {
   "cell_type": "code",
   "execution_count": 66,
   "id": "electric-vaccine",
   "metadata": {},
   "outputs": [],
   "source": [
    "def sort_image(type, info_dict, dataset_folder_name):\n",
    "    if (\"palmar\" in info_dict['hand_aspect']):\n",
    "        shutil.copy2(original_dataset + info_dict['image_name'], os.path.join(dataset_folder_path, \"palm\" , type, info_dict['gender']))\n",
    "    elif (\"dorsal\" in info_dict['hand_aspect']):\n",
    "        shutil.copy2(original_dataset + info_dict['image_name'], os.path.join(dataset_folder_path, \"dorsal\", type, info_dict['gender']))\n",
    "    shutil.copy2(original_dataset + image_name, os.path.join(dataset_folder_path, \"both\", type, info_dict['gender']))"
   ]
  },
  {
   "cell_type": "code",
   "execution_count": 67,
   "id": "assisted-alaska",
   "metadata": {},
   "outputs": [
    {
     "name": "stdout",
     "output_type": "stream",
     "text": [
      "[Errno 17] File exists: 'dataset_final/'\n",
      "[Errno 17] File exists: 'dataset_final/palm'\n",
      "[Errno 17] File exists: 'dataset_final/'\n",
      "[Errno 17] File exists: 'dataset_final/dorsal'\n",
      "[Errno 17] File exists: 'dataset_final/'\n",
      "[Errno 17] File exists: 'dataset_final/both'\n"
     ]
    }
   ],
   "source": [
    "for hand_type in hand_types:\n",
    "    dataset_folder_path = os.path.join(dataset_folder_name, hand_type)\n",
    "    try: \n",
    "        os.mkdir(dataset_folder_name, mode)\n",
    "    except OSError as error:\n",
    "        print(error)\n",
    "\n",
    "    try: \n",
    "        os.makedirs(dataset_folder_path)\n",
    "    except OSError as error:\n",
    "        print(error)"
   ]
  },
  {
   "cell_type": "code",
   "execution_count": 68,
   "id": "insured-cherry",
   "metadata": {},
   "outputs": [],
   "source": [
    "f = open(filename, \"r\")\n",
    "\n",
    "male_list = []\n",
    "female_list = []\n",
    "\n",
    "for line in f:\n",
    "    ting = line.split(\",\")\n",
    "    subject = ting[0]\n",
    "    gender = ting[2]\n",
    "    if (gender == \"male\"):\n",
    "        if (subject not in male_list):\n",
    "            male_list.append(subject)\n",
    "    else:\n",
    "        if (subject not in female_list):\n",
    "            female_list.append(subject)\n",
    "\n",
    "percentage = float(80)\n",
    "\n",
    "k = len(male_list) * percentage / 100\n",
    "k = int(k)\n",
    "indicies = random.sample(range(len(male_list)), k)\n",
    "training_male = [male_list[i] for i in indicies]\n",
    "valid_male = list(set(male_list)-set(training_male))\n",
    "\n",
    "k1 = len(female_list) * percentage / 100\n",
    "k1 = int(k1)\n",
    "indicies1 = random.sample(range(len(female_list)), k1)\n",
    "training_female = [female_list[i] for i in indicies1]\n",
    "valid_female = list(set(female_list)-set(training_female))\n",
    "\n",
    "f = open(filename, \"r\")"
   ]
  },
  {
   "cell_type": "code",
   "execution_count": 70,
   "id": "verified-basics",
   "metadata": {},
   "outputs": [
    {
     "name": "stdout",
     "output_type": "stream",
     "text": [
      "[Errno 17] File exists: 'dataset_final/palm/train/male'\n",
      "[Errno 17] File exists: 'dataset_final/palm/valid/male'\n"
     ]
    }
   ],
   "source": [
    "for hand_type in hand_types:\n",
    "    dataset_folder_path = os.path.join(dataset_folder_name, hand_type)\n",
    "    \n",
    "    for gender in ['male', 'female']:\n",
    "        create_dir(dataset_folder_path, \"train\", gender, mode)\n",
    "        create_dir(dataset_folder_path, \"valid\", gender, mode)"
   ]
  },
  {
   "cell_type": "code",
   "execution_count": 72,
   "id": "spoken-likelihood",
   "metadata": {},
   "outputs": [],
   "source": [
    "for line in f:\n",
    "    ting = line.split(\",\")\n",
    "    subject = ting[0]\n",
    "    gender = ting[2]\n",
    "    image_name = ting[7]\n",
    "\n",
    "    if (subject in training_female or subject in training_male):\n",
    "        if (\"palmar\" in ting[6]):\n",
    "            shutil.copy2(original_dataset + image_name, os.path.join(dataset_folder_name, \"palm\" ,\"train\", gender))\n",
    "        elif (\"dorsal\" in ting[6]):\n",
    "            shutil.copy2(original_dataset + image_name, os.path.join(dataset_folder_name, \"dorsal\", \"train\", gender))\n",
    "        shutil.copy2(original_dataset + image_name, os.path.join(dataset_folder_name, \"both\", \"train\", gender))\n",
    "    elif (subject in valid_female or subject in valid_male):\n",
    "        if (\"palmar\" in ting[6]):\n",
    "            shutil.copy2(original_dataset + image_name, os.path.join(dataset_folder_name, \"palm\", \"valid\", gender))\n",
    "        elif (\"dorsal\" in ting[6]): \n",
    "            shutil.copy2(original_dataset + image_name, os.path.join(dataset_folder_name, \"dorsal\", \"valid\", gender))\n",
    "        shutil.copy2(original_dataset + image_name, os.path.join(dataset_folder_name, \"both\", \"valid\", gender))"
   ]
  },
  {
   "cell_type": "code",
   "execution_count": null,
   "id": "equivalent-behalf",
   "metadata": {},
   "outputs": [],
   "source": []
  }
 ],
 "metadata": {
  "kernelspec": {
   "display_name": "Python 3",
   "language": "python",
   "name": "python3"
  },
  "language_info": {
   "codemirror_mode": {
    "name": "ipython",
    "version": 3
   },
   "file_extension": ".py",
   "mimetype": "text/x-python",
   "name": "python",
   "nbconvert_exporter": "python",
   "pygments_lexer": "ipython3",
   "version": "3.8.5"
  }
 },
 "nbformat": 4,
 "nbformat_minor": 5
}
