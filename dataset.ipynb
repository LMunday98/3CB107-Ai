{
 "cells": [
  {
   "cell_type": "code",
   "execution_count": 3,
   "id": "ultimate-kitty",
   "metadata": {},
   "outputs": [],
   "source": [
    "import os, sys\n",
    "import shutil\n",
    "import random"
   ]
  },
  {
   "cell_type": "code",
   "execution_count": 4,
   "id": "weighted-lafayette",
   "metadata": {},
   "outputs": [],
   "source": [
    "original_dataset = \"Hands/\"\n",
    "filename = \"HandInfo.txt\"\n",
    "\n",
    "# set to dorsal, palmar or both\n",
    "hand_type = \"dorsal\"\n",
    "\n",
    "dataset_folder_name = \"dataset2/\"\n",
    "dataset_folder_path = os.path.join(dataset_folder_name, hand_type)\n",
    "\n",
    "# mode\n",
    "mode = 0o777"
   ]
  },
  {
   "cell_type": "code",
   "execution_count": 5,
   "id": "thirty-launch",
   "metadata": {},
   "outputs": [
    {
     "name": "stdout",
     "output_type": "stream",
     "text": [
      "[Errno 17] File exists: 'dataset2/'\n"
     ]
    }
   ],
   "source": [
    "try: \n",
    "    os.mkdir(dataset_folder_name, mode)\n",
    "except OSError as error:\n",
    "    print(error)"
   ]
  },
  {
   "cell_type": "code",
   "execution_count": 6,
   "id": "presidential-occurrence",
   "metadata": {},
   "outputs": [
    {
     "name": "stdout",
     "output_type": "stream",
     "text": [
      "[Errno 17] File exists: 'dataset2/dorsal'\n"
     ]
    }
   ],
   "source": [
    "try: \n",
    "    os.makedirs(dataset_folder_path)\n",
    "except OSError as error:\n",
    "    print(error)"
   ]
  },
  {
   "cell_type": "code",
   "execution_count": 7,
   "id": "specified-sociology",
   "metadata": {},
   "outputs": [],
   "source": [
    "f = open(filename, \"r\")\n",
    "\n",
    "male_list = []\n",
    "female_list = []"
   ]
  },
  {
   "cell_type": "code",
   "execution_count": null,
   "id": "executed-lodge",
   "metadata": {},
   "outputs": [],
   "source": [
    "for line in f:\n",
    "    ting = line.split(\",\")\n",
    "    subject = ting[0]\n",
    "    gender = ting[2]\n",
    "    if (gender == \"male\"):\n",
    "        if (subject not in male_list):\n",
    "            male_list.append(subject)\n",
    "    else:\n",
    "        if (subject not in female_list):\n",
    "            female_list.append(subject)"
   ]
  },
  {
   "cell_type": "code",
   "execution_count": null,
   "id": "level-boulder",
   "metadata": {},
   "outputs": [],
   "source": [
    "percentage = float(80)\n",
    "\n",
    "k = len(male_list) * percentage / 100\n",
    "k = int(k)\n",
    "indicies = random.sample(range(len(male_list)), k)\n",
    "training_male = [male_list[i] for i in indicies]\n",
    "valid_male = list(set(male_list)-set(training_male))\n",
    "\n",
    "k1 = len(female_list) * percentage / 100\n",
    "k1 = int(k1)\n",
    "indicies1 = random.sample(range(len(female_list)), k1)\n",
    "training_female = [female_list[i] for i in indicies1]\n",
    "valid_female = list(set(female_list)-set(training_female))"
   ]
  },
  {
   "cell_type": "code",
   "execution_count": null,
   "id": "first-jones",
   "metadata": {},
   "outputs": [],
   "source": [
    "f = open(filename, \"r\")\n",
    "\n",
    "for line in f:\n",
    "    ting = line.split(\",\")\n",
    "    subject = ting[0]\n",
    "    gender = ting[2]\n",
    "    image_name = ting[7]\n",
    "\n",
    "    try: \n",
    "        os.makedirs(os.path.join(dataset_folder_path, \"train\", gender), mode)\n",
    "    except OSError as error:\n",
    "        print(error)\n",
    "\n",
    "    try: \n",
    "        os.makedirs(os.path.join(dataset_folder_path, \"valid\", gender), mode)\n",
    "    except OSError as error:\n",
    "        print(error)\n",
    "\n",
    "    if (hand_type in ting[6] or hand_type == \"both\"):\n",
    "        if (subject in training_female or subject in training_male):\n",
    "            shutil.copy2(original_dataset + image_name, os.path.join(dataset_folder_path, \"train\", gender))\n",
    "        elif (subject in valid_female or subject in valid_male):\n",
    "            shutil.copy2(original_dataset + image_name, os.path.join(dataset_folder_path, \"valid\", gender))"
   ]
  }
 ],
 "metadata": {
  "kernelspec": {
   "display_name": "Python 3",
   "language": "python",
   "name": "python3"
  },
  "language_info": {
   "codemirror_mode": {
    "name": "ipython",
    "version": 3
   },
   "file_extension": ".py",
   "mimetype": "text/x-python",
   "name": "python",
   "nbconvert_exporter": "python",
   "pygments_lexer": "ipython3",
   "version": "3.8.5"
  }
 },
 "nbformat": 4,
 "nbformat_minor": 5
}
